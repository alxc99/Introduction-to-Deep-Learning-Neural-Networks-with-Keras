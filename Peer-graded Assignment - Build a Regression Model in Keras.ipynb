{
 "cells": [
  {
   "cell_type": "code",
   "execution_count": 1,
   "id": "589e96de-6e92-4f64-94e0-69f0abf4c080",
   "metadata": {},
   "outputs": [],
   "source": [
    "# All Libraries required for this lab are listed below. The libraries pre-installed on Skills Network Labs are commented. \n",
    "# If you run this notebook on a different environment, e.g. your desktop, you may need to uncomment and install certain libraries.\n",
    "\n",
    "#!pip install numpy==1.21.4\n",
    "#!pip install pandas==1.3.4\n",
    "#!pip install keras==2.1.6"
   ]
  },
  {
   "cell_type": "markdown",
   "id": "4fd1e94f-a0d0-45e9-853a-05d1a9806343",
   "metadata": {},
   "source": [
    "We will first import the necessary libraries."
   ]
  },
  {
   "cell_type": "code",
   "execution_count": 2,
   "id": "6634876e-0dcb-4a18-8e6f-1def2eff7d61",
   "metadata": {},
   "outputs": [],
   "source": [
    "import pandas as pd\n",
    "import numpy as np"
   ]
  },
  {
   "cell_type": "markdown",
   "id": "5792935a-b0a6-469c-a76f-34a47f06285a",
   "metadata": {},
   "source": [
    "Let's import our data now."
   ]
  },
  {
   "cell_type": "code",
   "execution_count": 3,
   "id": "19551408-c9a3-477a-9fe3-67b473e8e97b",
   "metadata": {},
   "outputs": [
    {
     "data": {
      "text/html": [
       "<div>\n",
       "<style scoped>\n",
       "    .dataframe tbody tr th:only-of-type {\n",
       "        vertical-align: middle;\n",
       "    }\n",
       "\n",
       "    .dataframe tbody tr th {\n",
       "        vertical-align: top;\n",
       "    }\n",
       "\n",
       "    .dataframe thead th {\n",
       "        text-align: right;\n",
       "    }\n",
       "</style>\n",
       "<table border=\"1\" class=\"dataframe\">\n",
       "  <thead>\n",
       "    <tr style=\"text-align: right;\">\n",
       "      <th></th>\n",
       "      <th>Cement</th>\n",
       "      <th>Blast Furnace Slag</th>\n",
       "      <th>Fly Ash</th>\n",
       "      <th>Water</th>\n",
       "      <th>Superplasticizer</th>\n",
       "      <th>Coarse Aggregate</th>\n",
       "      <th>Fine Aggregate</th>\n",
       "      <th>Age</th>\n",
       "      <th>Strength</th>\n",
       "    </tr>\n",
       "  </thead>\n",
       "  <tbody>\n",
       "    <tr>\n",
       "      <th>0</th>\n",
       "      <td>540.0</td>\n",
       "      <td>0.0</td>\n",
       "      <td>0.0</td>\n",
       "      <td>162.0</td>\n",
       "      <td>2.5</td>\n",
       "      <td>1040.0</td>\n",
       "      <td>676.0</td>\n",
       "      <td>28</td>\n",
       "      <td>79.99</td>\n",
       "    </tr>\n",
       "    <tr>\n",
       "      <th>1</th>\n",
       "      <td>540.0</td>\n",
       "      <td>0.0</td>\n",
       "      <td>0.0</td>\n",
       "      <td>162.0</td>\n",
       "      <td>2.5</td>\n",
       "      <td>1055.0</td>\n",
       "      <td>676.0</td>\n",
       "      <td>28</td>\n",
       "      <td>61.89</td>\n",
       "    </tr>\n",
       "    <tr>\n",
       "      <th>2</th>\n",
       "      <td>332.5</td>\n",
       "      <td>142.5</td>\n",
       "      <td>0.0</td>\n",
       "      <td>228.0</td>\n",
       "      <td>0.0</td>\n",
       "      <td>932.0</td>\n",
       "      <td>594.0</td>\n",
       "      <td>270</td>\n",
       "      <td>40.27</td>\n",
       "    </tr>\n",
       "    <tr>\n",
       "      <th>3</th>\n",
       "      <td>332.5</td>\n",
       "      <td>142.5</td>\n",
       "      <td>0.0</td>\n",
       "      <td>228.0</td>\n",
       "      <td>0.0</td>\n",
       "      <td>932.0</td>\n",
       "      <td>594.0</td>\n",
       "      <td>365</td>\n",
       "      <td>41.05</td>\n",
       "    </tr>\n",
       "    <tr>\n",
       "      <th>4</th>\n",
       "      <td>198.6</td>\n",
       "      <td>132.4</td>\n",
       "      <td>0.0</td>\n",
       "      <td>192.0</td>\n",
       "      <td>0.0</td>\n",
       "      <td>978.4</td>\n",
       "      <td>825.5</td>\n",
       "      <td>360</td>\n",
       "      <td>44.30</td>\n",
       "    </tr>\n",
       "  </tbody>\n",
       "</table>\n",
       "</div>"
      ],
      "text/plain": [
       "   Cement  Blast Furnace Slag  Fly Ash  Water  Superplasticizer  \\\n",
       "0   540.0                 0.0      0.0  162.0               2.5   \n",
       "1   540.0                 0.0      0.0  162.0               2.5   \n",
       "2   332.5               142.5      0.0  228.0               0.0   \n",
       "3   332.5               142.5      0.0  228.0               0.0   \n",
       "4   198.6               132.4      0.0  192.0               0.0   \n",
       "\n",
       "   Coarse Aggregate  Fine Aggregate  Age  Strength  \n",
       "0            1040.0           676.0   28     79.99  \n",
       "1            1055.0           676.0   28     61.89  \n",
       "2             932.0           594.0  270     40.27  \n",
       "3             932.0           594.0  365     41.05  \n",
       "4             978.4           825.5  360     44.30  "
      ]
     },
     "execution_count": 3,
     "metadata": {},
     "output_type": "execute_result"
    }
   ],
   "source": [
    "concrete_data = pd.read_csv('https://cocl.us/concrete_data')\n",
    "concrete_data.head()"
   ]
  },
  {
   "cell_type": "code",
   "execution_count": 4,
   "id": "203dd647-70f6-4559-9115-94fc229637b1",
   "metadata": {},
   "outputs": [
    {
     "data": {
      "text/plain": [
       "(1030, 9)"
      ]
     },
     "execution_count": 4,
     "metadata": {},
     "output_type": "execute_result"
    }
   ],
   "source": [
    "concrete_data.shape"
   ]
  },
  {
   "cell_type": "code",
   "execution_count": 5,
   "id": "9b3341da-3e8b-4e03-af9a-107caa96d19f",
   "metadata": {},
   "outputs": [
    {
     "data": {
      "text/plain": [
       "Cement                0\n",
       "Blast Furnace Slag    0\n",
       "Fly Ash               0\n",
       "Water                 0\n",
       "Superplasticizer      0\n",
       "Coarse Aggregate      0\n",
       "Fine Aggregate        0\n",
       "Age                   0\n",
       "Strength              0\n",
       "dtype: int64"
      ]
     },
     "execution_count": 5,
     "metadata": {},
     "output_type": "execute_result"
    }
   ],
   "source": [
    "concrete_data.isnull().sum()"
   ]
  },
  {
   "cell_type": "markdown",
   "id": "430ec568-f1e2-4160-96ed-2ad7b5ad801e",
   "metadata": {},
   "source": [
    "We have 1030 tupples and there are no nulls in our data. Great. \n",
    "Let's separate our dataframe into two: one for our predictors and another one for our target."
   ]
  },
  {
   "cell_type": "code",
   "execution_count": 6,
   "id": "2d1c6a25-1985-4d38-ab3f-9bdf9ed34219",
   "metadata": {},
   "outputs": [],
   "source": [
    "concrete_data_columns = concrete_data.columns\n",
    "\n",
    "predictors = concrete_data[concrete_data_columns[concrete_data_columns != 'Strength']] # all columns except Strength\n",
    "target = concrete_data['Strength'] # Strength column"
   ]
  },
  {
   "cell_type": "code",
   "execution_count": 7,
   "id": "e3b2f401-0c0c-4e26-96d8-0aff62a59e33",
   "metadata": {},
   "outputs": [
    {
     "data": {
      "text/html": [
       "<div>\n",
       "<style scoped>\n",
       "    .dataframe tbody tr th:only-of-type {\n",
       "        vertical-align: middle;\n",
       "    }\n",
       "\n",
       "    .dataframe tbody tr th {\n",
       "        vertical-align: top;\n",
       "    }\n",
       "\n",
       "    .dataframe thead th {\n",
       "        text-align: right;\n",
       "    }\n",
       "</style>\n",
       "<table border=\"1\" class=\"dataframe\">\n",
       "  <thead>\n",
       "    <tr style=\"text-align: right;\">\n",
       "      <th></th>\n",
       "      <th>Cement</th>\n",
       "      <th>Blast Furnace Slag</th>\n",
       "      <th>Fly Ash</th>\n",
       "      <th>Water</th>\n",
       "      <th>Superplasticizer</th>\n",
       "      <th>Coarse Aggregate</th>\n",
       "      <th>Fine Aggregate</th>\n",
       "      <th>Age</th>\n",
       "    </tr>\n",
       "  </thead>\n",
       "  <tbody>\n",
       "    <tr>\n",
       "      <th>0</th>\n",
       "      <td>540.0</td>\n",
       "      <td>0.0</td>\n",
       "      <td>0.0</td>\n",
       "      <td>162.0</td>\n",
       "      <td>2.5</td>\n",
       "      <td>1040.0</td>\n",
       "      <td>676.0</td>\n",
       "      <td>28</td>\n",
       "    </tr>\n",
       "    <tr>\n",
       "      <th>1</th>\n",
       "      <td>540.0</td>\n",
       "      <td>0.0</td>\n",
       "      <td>0.0</td>\n",
       "      <td>162.0</td>\n",
       "      <td>2.5</td>\n",
       "      <td>1055.0</td>\n",
       "      <td>676.0</td>\n",
       "      <td>28</td>\n",
       "    </tr>\n",
       "    <tr>\n",
       "      <th>2</th>\n",
       "      <td>332.5</td>\n",
       "      <td>142.5</td>\n",
       "      <td>0.0</td>\n",
       "      <td>228.0</td>\n",
       "      <td>0.0</td>\n",
       "      <td>932.0</td>\n",
       "      <td>594.0</td>\n",
       "      <td>270</td>\n",
       "    </tr>\n",
       "    <tr>\n",
       "      <th>3</th>\n",
       "      <td>332.5</td>\n",
       "      <td>142.5</td>\n",
       "      <td>0.0</td>\n",
       "      <td>228.0</td>\n",
       "      <td>0.0</td>\n",
       "      <td>932.0</td>\n",
       "      <td>594.0</td>\n",
       "      <td>365</td>\n",
       "    </tr>\n",
       "    <tr>\n",
       "      <th>4</th>\n",
       "      <td>198.6</td>\n",
       "      <td>132.4</td>\n",
       "      <td>0.0</td>\n",
       "      <td>192.0</td>\n",
       "      <td>0.0</td>\n",
       "      <td>978.4</td>\n",
       "      <td>825.5</td>\n",
       "      <td>360</td>\n",
       "    </tr>\n",
       "  </tbody>\n",
       "</table>\n",
       "</div>"
      ],
      "text/plain": [
       "   Cement  Blast Furnace Slag  Fly Ash  Water  Superplasticizer  \\\n",
       "0   540.0                 0.0      0.0  162.0               2.5   \n",
       "1   540.0                 0.0      0.0  162.0               2.5   \n",
       "2   332.5               142.5      0.0  228.0               0.0   \n",
       "3   332.5               142.5      0.0  228.0               0.0   \n",
       "4   198.6               132.4      0.0  192.0               0.0   \n",
       "\n",
       "   Coarse Aggregate  Fine Aggregate  Age  \n",
       "0            1040.0           676.0   28  \n",
       "1            1055.0           676.0   28  \n",
       "2             932.0           594.0  270  \n",
       "3             932.0           594.0  365  \n",
       "4             978.4           825.5  360  "
      ]
     },
     "execution_count": 7,
     "metadata": {},
     "output_type": "execute_result"
    }
   ],
   "source": [
    "predictors.head()"
   ]
  },
  {
   "cell_type": "code",
   "execution_count": 8,
   "id": "572d9b6d-4f11-49c3-bead-064c449974ec",
   "metadata": {},
   "outputs": [
    {
     "data": {
      "text/plain": [
       "0    79.99\n",
       "1    61.89\n",
       "2    40.27\n",
       "3    41.05\n",
       "4    44.30\n",
       "Name: Strength, dtype: float64"
      ]
     },
     "execution_count": 8,
     "metadata": {},
     "output_type": "execute_result"
    }
   ],
   "source": [
    "target.head()"
   ]
  },
  {
   "cell_type": "code",
   "execution_count": 9,
   "id": "09e6f54f-2f1d-42be-99ef-33e9ee1cb795",
   "metadata": {},
   "outputs": [],
   "source": [
    "n_cols = predictors.shape[1] # number of predictors"
   ]
  },
  {
   "cell_type": "markdown",
   "id": "52273ea7-c630-4f0d-827a-284d86512200",
   "metadata": {},
   "source": [
    "So far everything is ok. Let's move along."
   ]
  },
  {
   "cell_type": "markdown",
   "id": "09d51eb0-b93c-4a6f-acb9-fa3ec94dc4c6",
   "metadata": {},
   "source": [
    "## Use the Keras library to build a neural network "
   ]
  },
  {
   "cell_type": "markdown",
   "id": "699d8968-35c3-467e-9f03-df438b55b1c4",
   "metadata": {},
   "source": [
    "Use the Keras library to build a neural network with the following:\n",
    "- One hidden layer of 10 nodes, and a ReLU activation function\n",
    "- Use the adam optimizer and the mean squared error  as the loss function.\n",
    "1. Randomly split the data into a training and test sets by holding 30% of the data for testing. You can use the train_test_split helper function from Scikit-learn.\n",
    "2. Train the model on the training data using 50 epochs.\n",
    "3. Evaluate the model on the test data and compute the mean squared error between the predicted concrete strength and the actual concrete strength. You can use the mean_squared_error function from Scikit-learn.\n",
    "4. Repeat steps 1 - 3, 50 times, i.e., create a list of 50 mean squared errors.\n",
    "5. Report the mean and the standard deviation of the mean squared errors.\n"
   ]
  },
  {
   "cell_type": "markdown",
   "id": "f76fd2d8-9ce1-41fc-beac-f4bc6d783441",
   "metadata": {},
   "source": [
    "## Import keras and sklearn libraries"
   ]
  },
  {
   "cell_type": "code",
   "execution_count": 10,
   "id": "203d1c9d-1d79-4dda-a551-e7976620e47f",
   "metadata": {},
   "outputs": [
    {
     "name": "stderr",
     "output_type": "stream",
     "text": [
      "Using TensorFlow backend.\n",
      "/home/jupyterlab/conda/envs/python/lib/python3.7/site-packages/tensorflow/python/framework/dtypes.py:516: FutureWarning: Passing (type, 1) or '1type' as a synonym of type is deprecated; in a future version of numpy, it will be understood as (type, (1,)) / '(1,)type'.\n",
      "  _np_qint8 = np.dtype([(\"qint8\", np.int8, 1)])\n",
      "/home/jupyterlab/conda/envs/python/lib/python3.7/site-packages/tensorflow/python/framework/dtypes.py:517: FutureWarning: Passing (type, 1) or '1type' as a synonym of type is deprecated; in a future version of numpy, it will be understood as (type, (1,)) / '(1,)type'.\n",
      "  _np_quint8 = np.dtype([(\"quint8\", np.uint8, 1)])\n",
      "/home/jupyterlab/conda/envs/python/lib/python3.7/site-packages/tensorflow/python/framework/dtypes.py:518: FutureWarning: Passing (type, 1) or '1type' as a synonym of type is deprecated; in a future version of numpy, it will be understood as (type, (1,)) / '(1,)type'.\n",
      "  _np_qint16 = np.dtype([(\"qint16\", np.int16, 1)])\n",
      "/home/jupyterlab/conda/envs/python/lib/python3.7/site-packages/tensorflow/python/framework/dtypes.py:519: FutureWarning: Passing (type, 1) or '1type' as a synonym of type is deprecated; in a future version of numpy, it will be understood as (type, (1,)) / '(1,)type'.\n",
      "  _np_quint16 = np.dtype([(\"quint16\", np.uint16, 1)])\n",
      "/home/jupyterlab/conda/envs/python/lib/python3.7/site-packages/tensorflow/python/framework/dtypes.py:520: FutureWarning: Passing (type, 1) or '1type' as a synonym of type is deprecated; in a future version of numpy, it will be understood as (type, (1,)) / '(1,)type'.\n",
      "  _np_qint32 = np.dtype([(\"qint32\", np.int32, 1)])\n",
      "/home/jupyterlab/conda/envs/python/lib/python3.7/site-packages/tensorflow/python/framework/dtypes.py:525: FutureWarning: Passing (type, 1) or '1type' as a synonym of type is deprecated; in a future version of numpy, it will be understood as (type, (1,)) / '(1,)type'.\n",
      "  np_resource = np.dtype([(\"resource\", np.ubyte, 1)])\n",
      "/home/jupyterlab/conda/envs/python/lib/python3.7/site-packages/tensorboard/compat/tensorflow_stub/dtypes.py:541: FutureWarning: Passing (type, 1) or '1type' as a synonym of type is deprecated; in a future version of numpy, it will be understood as (type, (1,)) / '(1,)type'.\n",
      "  _np_qint8 = np.dtype([(\"qint8\", np.int8, 1)])\n",
      "/home/jupyterlab/conda/envs/python/lib/python3.7/site-packages/tensorboard/compat/tensorflow_stub/dtypes.py:542: FutureWarning: Passing (type, 1) or '1type' as a synonym of type is deprecated; in a future version of numpy, it will be understood as (type, (1,)) / '(1,)type'.\n",
      "  _np_quint8 = np.dtype([(\"quint8\", np.uint8, 1)])\n",
      "/home/jupyterlab/conda/envs/python/lib/python3.7/site-packages/tensorboard/compat/tensorflow_stub/dtypes.py:543: FutureWarning: Passing (type, 1) or '1type' as a synonym of type is deprecated; in a future version of numpy, it will be understood as (type, (1,)) / '(1,)type'.\n",
      "  _np_qint16 = np.dtype([(\"qint16\", np.int16, 1)])\n",
      "/home/jupyterlab/conda/envs/python/lib/python3.7/site-packages/tensorboard/compat/tensorflow_stub/dtypes.py:544: FutureWarning: Passing (type, 1) or '1type' as a synonym of type is deprecated; in a future version of numpy, it will be understood as (type, (1,)) / '(1,)type'.\n",
      "  _np_quint16 = np.dtype([(\"quint16\", np.uint16, 1)])\n",
      "/home/jupyterlab/conda/envs/python/lib/python3.7/site-packages/tensorboard/compat/tensorflow_stub/dtypes.py:545: FutureWarning: Passing (type, 1) or '1type' as a synonym of type is deprecated; in a future version of numpy, it will be understood as (type, (1,)) / '(1,)type'.\n",
      "  _np_qint32 = np.dtype([(\"qint32\", np.int32, 1)])\n",
      "/home/jupyterlab/conda/envs/python/lib/python3.7/site-packages/tensorboard/compat/tensorflow_stub/dtypes.py:550: FutureWarning: Passing (type, 1) or '1type' as a synonym of type is deprecated; in a future version of numpy, it will be understood as (type, (1,)) / '(1,)type'.\n",
      "  np_resource = np.dtype([(\"resource\", np.ubyte, 1)])\n"
     ]
    }
   ],
   "source": [
    "import keras\n",
    "from keras.models import Sequential\n",
    "from keras.layers import Dense"
   ]
  },
  {
   "cell_type": "markdown",
   "id": "e95d6521-49c4-4293-b5c1-6e80430f54ec",
   "metadata": {},
   "source": [
    "We will import additional libraries as well."
   ]
  },
  {
   "cell_type": "code",
   "execution_count": 11,
   "id": "1a4b7817-b005-47b1-add7-9cb514b11284",
   "metadata": {},
   "outputs": [
    {
     "name": "stderr",
     "output_type": "stream",
     "text": [
      "/home/jupyterlab/conda/envs/python/lib/python3.7/site-packages/sklearn/utils/validation.py:37: DeprecationWarning: distutils Version classes are deprecated. Use packaging.version instead.\n",
      "  LARGE_SPARSE_SUPPORTED = LooseVersion(scipy_version) >= '0.14.0'\n"
     ]
    }
   ],
   "source": [
    "from sklearn.metrics import mean_squared_error\n",
    "from sklearn.model_selection import train_test_split"
   ]
  },
  {
   "cell_type": "markdown",
   "id": "510c9ad7-2942-4a0a-b789-2d10ae4f4bcd",
   "metadata": {},
   "source": [
    "## **Part A.**"
   ]
  },
  {
   "cell_type": "markdown",
   "id": "596f8346-aab4-4756-b170-728dbe3aaeb1",
   "metadata": {},
   "source": [
    "Let's build and compile our model."
   ]
  },
  {
   "cell_type": "code",
   "execution_count": 12,
   "id": "720af3d3-808e-429a-b8b9-dc1bd1f37e22",
   "metadata": {},
   "outputs": [
    {
     "name": "stdout",
     "output_type": "stream",
     "text": [
      "WARNING:tensorflow:From /home/jupyterlab/conda/envs/python/lib/python3.7/site-packages/keras/backend/tensorflow_backend.py:68: The name tf.get_default_graph is deprecated. Please use tf.compat.v1.get_default_graph instead.\n",
      "\n",
      "WARNING:tensorflow:From /home/jupyterlab/conda/envs/python/lib/python3.7/site-packages/keras/backend/tensorflow_backend.py:508: The name tf.placeholder is deprecated. Please use tf.compat.v1.placeholder instead.\n",
      "\n",
      "WARNING:tensorflow:From /home/jupyterlab/conda/envs/python/lib/python3.7/site-packages/keras/backend/tensorflow_backend.py:3837: The name tf.random_uniform is deprecated. Please use tf.random.uniform instead.\n",
      "\n",
      "WARNING:tensorflow:From /home/jupyterlab/conda/envs/python/lib/python3.7/site-packages/keras/optimizers.py:757: The name tf.train.Optimizer is deprecated. Please use tf.compat.v1.train.Optimizer instead.\n",
      "\n"
     ]
    }
   ],
   "source": [
    "model_A = Sequential()\n",
    "model_A.add(Dense(10, activation='relu', input_shape=(n_cols,))) # 1 hidden layer of 10 nodes\n",
    "model_A.add(Dense(1))\n",
    "model_A.compile(optimizer='adam', loss='mean_squared_error') # adam optimizer and the mean squared error as the loss function"
   ]
  },
  {
   "cell_type": "markdown",
   "id": "711d53ec-a059-46bf-88d5-e13c1eeea244",
   "metadata": {},
   "source": [
    "We will randomly split the data into a training and test sets by holding 30% of the data for testing. "
   ]
  },
  {
   "cell_type": "code",
   "execution_count": 13,
   "id": "6afb5ed8-8631-4667-b545-b64caa8e8802",
   "metadata": {},
   "outputs": [],
   "source": [
    "X_train, X_test, y_train, y_test = train_test_split(predictors, target, test_size=0.3, random_state=42)"
   ]
  },
  {
   "cell_type": "markdown",
   "id": "2e718a42-7440-4359-a69a-cb96a420b53d",
   "metadata": {},
   "source": [
    "Fit the model. We will train the model on the training data using 50 epochs."
   ]
  },
  {
   "cell_type": "code",
   "execution_count": 14,
   "id": "1c1c7e93-a4c8-47f5-821d-1dfdd2ab0fe3",
   "metadata": {},
   "outputs": [
    {
     "name": "stdout",
     "output_type": "stream",
     "text": [
      "WARNING:tensorflow:From /home/jupyterlab/conda/envs/python/lib/python3.7/site-packages/keras/backend/tensorflow_backend.py:977: The name tf.assign_add is deprecated. Please use tf.compat.v1.assign_add instead.\n",
      "\n",
      "WARNING:tensorflow:From /home/jupyterlab/conda/envs/python/lib/python3.7/site-packages/keras/backend/tensorflow_backend.py:964: The name tf.assign is deprecated. Please use tf.compat.v1.assign instead.\n",
      "\n"
     ]
    },
    {
     "name": "stderr",
     "output_type": "stream",
     "text": [
      "2023-03-22 05:54:40.328271: I tensorflow/core/platform/cpu_feature_guard.cc:142] Your CPU supports instructions that this TensorFlow binary was not compiled to use: SSE4.1 SSE4.2 AVX AVX2 AVX512F FMA\n",
      "2023-03-22 05:54:40.333437: I tensorflow/core/platform/profile_utils/cpu_utils.cc:94] CPU Frequency: 2494075000 Hz\n",
      "2023-03-22 05:54:40.334117: I tensorflow/compiler/xla/service/service.cc:168] XLA service 0x55568314c350 executing computations on platform Host. Devices:\n",
      "2023-03-22 05:54:40.334178: I tensorflow/compiler/xla/service/service.cc:175]   StreamExecutor device (0): <undefined>, <undefined>\n",
      "2023-03-22 05:54:40.400980: W tensorflow/compiler/jit/mark_for_compilation_pass.cc:1412] (One-time warning): Not using XLA:CPU for cluster because envvar TF_XLA_FLAGS=--tf_xla_cpu_global_jit was not set.  If you want XLA:CPU, either set that envvar, or use experimental_jit_scope to enable XLA:CPU.  To confirm that XLA is active, pass --vmodule=xla_compilation_cache=1 (as a proper command-line flag, not via TF_XLA_FLAGS) or set the envvar XLA_FLAGS=--xla_hlo_profile.\n"
     ]
    },
    {
     "data": {
      "text/plain": [
       "<keras.callbacks.History at 0x7fe57e480c50>"
      ]
     },
     "execution_count": 14,
     "metadata": {},
     "output_type": "execute_result"
    }
   ],
   "source": [
    "model_A.fit(X_train, y_train, epochs=50, verbose=0)"
   ]
  },
  {
   "cell_type": "markdown",
   "id": "150e848b-9ef5-4177-95cc-b900adabb302",
   "metadata": {},
   "source": [
    "Now we will evaluate the model on the test data and compute the mean squared error between the predicted value and the actual value. "
   ]
  },
  {
   "cell_type": "code",
   "execution_count": 15,
   "id": "44eae912-8f7c-4ba0-99e1-0a67dc1b7ba2",
   "metadata": {},
   "outputs": [
    {
     "name": "stdout",
     "output_type": "stream",
     "text": [
      "309/309 [==============================] - 0s 101us/step\n"
     ]
    },
    {
     "data": {
      "text/plain": [
       "469.2619698039922"
      ]
     },
     "execution_count": 15,
     "metadata": {},
     "output_type": "execute_result"
    }
   ],
   "source": [
    "model_A_eval = model_A.evaluate(X_test, y_test)\n",
    "model_A_eval"
   ]
  },
  {
   "cell_type": "code",
   "execution_count": 16,
   "id": "3d83b04d-2681-49b0-8a65-e193f65a0638",
   "metadata": {},
   "outputs": [
    {
     "data": {
      "text/plain": [
       "469.2619161022984"
      ]
     },
     "execution_count": 16,
     "metadata": {},
     "output_type": "execute_result"
    }
   ],
   "source": [
    "y_pred = model_A.predict(X_test)\n",
    "mse = mean_squared_error(y_test, y_pred)\n",
    "mse"
   ]
  },
  {
   "cell_type": "markdown",
   "id": "47688334-8d18-4f09-bb90-eb3f88984bee",
   "metadata": {},
   "source": [
    "Now we will repeat the previous steps 50 times in order to get 50 mean squared errors."
   ]
  },
  {
   "cell_type": "code",
   "execution_count": 17,
   "id": "05ed6f5a-947f-4f74-b4f1-53eff86b2b21",
   "metadata": {},
   "outputs": [],
   "source": [
    "mean_squared_errors = []\n",
    "for i in range(0,50):\n",
    "    # split the data\n",
    "    X_train, X_test, y_train, y_test = train_test_split(predictors, target, test_size=0.3, random_state=i)\n",
    "    # fit the model with our data\n",
    "    model_A.fit(X_train, y_train, epochs=50, verbose=0)\n",
    "    # evaluate the model\n",
    "    model_eval = model_A.evaluate(X_test, y_test, verbose=0)\n",
    "    # calculate the mse\n",
    "    y_pred = model_A.predict(X_test)\n",
    "    mse = mean_squared_error(y_test, y_pred)\n",
    "    # append our mse to our list\n",
    "    mean_squared_errors.append(mse)"
   ]
  },
  {
   "cell_type": "markdown",
   "id": "374612c8-e5ca-46fd-84f6-84913d3d9e0e",
   "metadata": {},
   "source": [
    "Let's check out our list of mean squared errors."
   ]
  },
  {
   "cell_type": "markdown",
   "id": "c81d78f4-b201-49c3-be6b-270897412ac8",
   "metadata": {},
   "source": [
    "Report the mean and the standard deviation of the mean squared errors."
   ]
  },
  {
   "cell_type": "code",
   "execution_count": 18,
   "id": "30912b67-f670-49f1-9fa1-0e9732c2bc61",
   "metadata": {},
   "outputs": [],
   "source": [
    "mean = np.mean(mean_squared_errors)\n",
    "standard_deviation = np.std(mean_squared_errors)"
   ]
  },
  {
   "cell_type": "code",
   "execution_count": 19,
   "id": "28ba0e39-31d7-408e-af82-657c1c35b7f8",
   "metadata": {},
   "outputs": [
    {
     "data": {
      "text/plain": [
       "51.711954125356016"
      ]
     },
     "execution_count": 19,
     "metadata": {},
     "output_type": "execute_result"
    }
   ],
   "source": [
    "mean"
   ]
  },
  {
   "cell_type": "code",
   "execution_count": 20,
   "id": "c0f85635-66bd-4c90-a082-e9c17a4d6402",
   "metadata": {},
   "outputs": [
    {
     "data": {
      "text/plain": [
       "17.040345571772622"
      ]
     },
     "execution_count": 20,
     "metadata": {},
     "output_type": "execute_result"
    }
   ],
   "source": [
    "standard_deviation"
   ]
  },
  {
   "cell_type": "markdown",
   "id": "46df4e25-4664-4a10-8ad2-f90df6aadae1",
   "metadata": {},
   "source": [
    "## **Part B.**"
   ]
  },
  {
   "cell_type": "markdown",
   "id": "99358ad4-a37f-4c7a-a82b-d60f48d5404c",
   "metadata": {},
   "source": [
    "First, let's normalize our data."
   ]
  },
  {
   "cell_type": "code",
   "execution_count": 21,
   "id": "d65eab99-a8d3-4266-8c21-281b3284835f",
   "metadata": {},
   "outputs": [
    {
     "data": {
      "text/html": [
       "<div>\n",
       "<style scoped>\n",
       "    .dataframe tbody tr th:only-of-type {\n",
       "        vertical-align: middle;\n",
       "    }\n",
       "\n",
       "    .dataframe tbody tr th {\n",
       "        vertical-align: top;\n",
       "    }\n",
       "\n",
       "    .dataframe thead th {\n",
       "        text-align: right;\n",
       "    }\n",
       "</style>\n",
       "<table border=\"1\" class=\"dataframe\">\n",
       "  <thead>\n",
       "    <tr style=\"text-align: right;\">\n",
       "      <th></th>\n",
       "      <th>Cement</th>\n",
       "      <th>Blast Furnace Slag</th>\n",
       "      <th>Fly Ash</th>\n",
       "      <th>Water</th>\n",
       "      <th>Superplasticizer</th>\n",
       "      <th>Coarse Aggregate</th>\n",
       "      <th>Fine Aggregate</th>\n",
       "      <th>Age</th>\n",
       "    </tr>\n",
       "  </thead>\n",
       "  <tbody>\n",
       "    <tr>\n",
       "      <th>0</th>\n",
       "      <td>2.476712</td>\n",
       "      <td>-0.856472</td>\n",
       "      <td>-0.846733</td>\n",
       "      <td>-0.916319</td>\n",
       "      <td>-0.620147</td>\n",
       "      <td>0.862735</td>\n",
       "      <td>-1.217079</td>\n",
       "      <td>-0.279597</td>\n",
       "    </tr>\n",
       "    <tr>\n",
       "      <th>1</th>\n",
       "      <td>2.476712</td>\n",
       "      <td>-0.856472</td>\n",
       "      <td>-0.846733</td>\n",
       "      <td>-0.916319</td>\n",
       "      <td>-0.620147</td>\n",
       "      <td>1.055651</td>\n",
       "      <td>-1.217079</td>\n",
       "      <td>-0.279597</td>\n",
       "    </tr>\n",
       "    <tr>\n",
       "      <th>2</th>\n",
       "      <td>0.491187</td>\n",
       "      <td>0.795140</td>\n",
       "      <td>-0.846733</td>\n",
       "      <td>2.174405</td>\n",
       "      <td>-1.038638</td>\n",
       "      <td>-0.526262</td>\n",
       "      <td>-2.239829</td>\n",
       "      <td>3.551340</td>\n",
       "    </tr>\n",
       "    <tr>\n",
       "      <th>3</th>\n",
       "      <td>0.491187</td>\n",
       "      <td>0.795140</td>\n",
       "      <td>-0.846733</td>\n",
       "      <td>2.174405</td>\n",
       "      <td>-1.038638</td>\n",
       "      <td>-0.526262</td>\n",
       "      <td>-2.239829</td>\n",
       "      <td>5.055221</td>\n",
       "    </tr>\n",
       "    <tr>\n",
       "      <th>4</th>\n",
       "      <td>-0.790075</td>\n",
       "      <td>0.678079</td>\n",
       "      <td>-0.846733</td>\n",
       "      <td>0.488555</td>\n",
       "      <td>-1.038638</td>\n",
       "      <td>0.070492</td>\n",
       "      <td>0.647569</td>\n",
       "      <td>4.976069</td>\n",
       "    </tr>\n",
       "  </tbody>\n",
       "</table>\n",
       "</div>"
      ],
      "text/plain": [
       "     Cement  Blast Furnace Slag   Fly Ash     Water  Superplasticizer  \\\n",
       "0  2.476712           -0.856472 -0.846733 -0.916319         -0.620147   \n",
       "1  2.476712           -0.856472 -0.846733 -0.916319         -0.620147   \n",
       "2  0.491187            0.795140 -0.846733  2.174405         -1.038638   \n",
       "3  0.491187            0.795140 -0.846733  2.174405         -1.038638   \n",
       "4 -0.790075            0.678079 -0.846733  0.488555         -1.038638   \n",
       "\n",
       "   Coarse Aggregate  Fine Aggregate       Age  \n",
       "0          0.862735       -1.217079 -0.279597  \n",
       "1          1.055651       -1.217079 -0.279597  \n",
       "2         -0.526262       -2.239829  3.551340  \n",
       "3         -0.526262       -2.239829  5.055221  \n",
       "4          0.070492        0.647569  4.976069  "
      ]
     },
     "execution_count": 21,
     "metadata": {},
     "output_type": "execute_result"
    }
   ],
   "source": [
    "predictors_normalized = (predictors - predictors.mean()) / predictors.std()\n",
    "predictors_normalized.head()"
   ]
  },
  {
   "cell_type": "code",
   "execution_count": 22,
   "id": "0203d1c1-c896-4204-bafc-1d4ecdefb84d",
   "metadata": {},
   "outputs": [],
   "source": [
    "# Build and compile the model\n",
    "model_B = Sequential()\n",
    "model_B.add(Dense(10, activation='relu', input_shape=(n_cols,))) # 1 hidden layer of 10 nodes\n",
    "model_B.add(Dense(1))\n",
    "model_B.compile(optimizer='adam', loss='mean_squared_error') # adam optimizer and the mean squared error as the loss function"
   ]
  },
  {
   "cell_type": "code",
   "execution_count": 23,
   "id": "0ef5d930-9f8b-47cc-9a82-cbf75674bb69",
   "metadata": {},
   "outputs": [],
   "source": [
    "# Split the data\n",
    "X_train, X_test, y_train, y_test = train_test_split(predictors_normalized, target, test_size=0.3, random_state=42)"
   ]
  },
  {
   "cell_type": "code",
   "execution_count": 24,
   "id": "5807e45d-be44-4f8f-8e57-9ce010d835c1",
   "metadata": {},
   "outputs": [
    {
     "data": {
      "text/plain": [
       "<keras.callbacks.History at 0x7fe5606accd0>"
      ]
     },
     "execution_count": 24,
     "metadata": {},
     "output_type": "execute_result"
    }
   ],
   "source": [
    "# Fit the model\n",
    "model_B.fit(X_train, y_train, epochs=50, verbose=0)"
   ]
  },
  {
   "cell_type": "code",
   "execution_count": 25,
   "id": "e015b668-01f7-4806-9c12-3d7d99ba2ded",
   "metadata": {},
   "outputs": [
    {
     "name": "stdout",
     "output_type": "stream",
     "text": [
      "309/309 [==============================] - 0s 128us/step\n"
     ]
    },
    {
     "data": {
      "text/plain": [
       "380.5197938591917"
      ]
     },
     "execution_count": 25,
     "metadata": {},
     "output_type": "execute_result"
    }
   ],
   "source": [
    "# Evaluate the model\n",
    "model_B_eval = model_B.evaluate(X_test, y_test)\n",
    "model_B_eval"
   ]
  },
  {
   "cell_type": "code",
   "execution_count": 26,
   "id": "fdd2d243-034a-4d09-b49c-a9dbc9f76d70",
   "metadata": {},
   "outputs": [
    {
     "data": {
      "text/plain": [
       "380.5197759648453"
      ]
     },
     "execution_count": 26,
     "metadata": {},
     "output_type": "execute_result"
    }
   ],
   "source": [
    "# Find the MSE\n",
    "y_pred = model_B.predict(X_test)\n",
    "mse = mean_squared_error(y_test, y_pred)\n",
    "mse"
   ]
  },
  {
   "cell_type": "code",
   "execution_count": 27,
   "id": "6282874e-dfdd-4ba1-9259-486c75b73500",
   "metadata": {},
   "outputs": [],
   "source": [
    "# Repeat the process 50 times\n",
    "mean_squared_errors_2 = []\n",
    "for i in range(0,50):\n",
    "    # split the data\n",
    "    X_train, X_test, y_train, y_test = train_test_split(predictors_normalized, target, test_size=0.3, random_state=i)\n",
    "    # fit the model with our data\n",
    "    model_B.fit(X_train, y_train, epochs=50, verbose=0)\n",
    "    # evaluate the model\n",
    "    model_eval = model_B.evaluate(X_test, y_test, verbose=0)\n",
    "    # calculate the mse\n",
    "    y_pred = model_B.predict(X_test)\n",
    "    mse = mean_squared_error(y_test, y_pred)\n",
    "    # append our mse to our list\n",
    "    mean_squared_errors_2.append(mse)"
   ]
  },
  {
   "cell_type": "code",
   "execution_count": 28,
   "id": "01702058-4c58-4845-a94a-e7280bc27312",
   "metadata": {},
   "outputs": [],
   "source": [
    "# Calculating the mean and std\n",
    "mean2 = np.mean(mean_squared_errors_2)\n",
    "standard_deviation2 = np.std(mean_squared_errors_2)"
   ]
  },
  {
   "cell_type": "code",
   "execution_count": 29,
   "id": "38c54cba-d407-431a-aa18-4c71097a98d2",
   "metadata": {},
   "outputs": [
    {
     "data": {
      "text/plain": [
       "41.94114665658969"
      ]
     },
     "execution_count": 29,
     "metadata": {},
     "output_type": "execute_result"
    }
   ],
   "source": [
    "mean2"
   ]
  },
  {
   "cell_type": "code",
   "execution_count": 30,
   "id": "251f833e-fd71-4b9a-b518-30d01dbe92ea",
   "metadata": {},
   "outputs": [
    {
     "data": {
      "text/plain": [
       "24.100195964861587"
      ]
     },
     "execution_count": 30,
     "metadata": {},
     "output_type": "execute_result"
    }
   ],
   "source": [
    "standard_deviation2"
   ]
  },
  {
   "cell_type": "markdown",
   "id": "1f613a06-ffa4-4db2-8af2-86d59e7384e2",
   "metadata": {},
   "source": [
    "## **Part C.**"
   ]
  },
  {
   "cell_type": "code",
   "execution_count": 31,
   "id": "f8c1a403-4a62-4bb0-af2d-554fd0131297",
   "metadata": {},
   "outputs": [],
   "source": [
    "# Build and compile the model\n",
    "model_C = Sequential()\n",
    "model_C.add(Dense(10, activation='relu', input_shape=(n_cols,))) # 1 hidden layer of 10 nodes\n",
    "model_C.add(Dense(1))\n",
    "model_C.compile(optimizer='adam', loss='mean_squared_error') # adam optimizer and the mean squared error as the loss function"
   ]
  },
  {
   "cell_type": "code",
   "execution_count": 32,
   "id": "62d3eabd-083e-48f6-ac61-e0b10b0df6c0",
   "metadata": {},
   "outputs": [],
   "source": [
    "# Split the data\n",
    "X_train, X_test, y_train, y_test = train_test_split(predictors_normalized, target, test_size=0.3, random_state=42)"
   ]
  },
  {
   "cell_type": "code",
   "execution_count": 33,
   "id": "ad922f45-ca15-43a1-b18a-2630e6f5ad1d",
   "metadata": {},
   "outputs": [
    {
     "data": {
      "text/plain": [
       "<keras.callbacks.History at 0x7fe56034b490>"
      ]
     },
     "execution_count": 33,
     "metadata": {},
     "output_type": "execute_result"
    }
   ],
   "source": [
    "# Fit the model. Use 100 epochs this time for training\n",
    "model_C.fit(X_train, y_train, epochs=100, verbose=0)"
   ]
  },
  {
   "cell_type": "code",
   "execution_count": 34,
   "id": "a459c874-5e82-4122-b9b4-a6aad0ac2a34",
   "metadata": {},
   "outputs": [
    {
     "name": "stdout",
     "output_type": "stream",
     "text": [
      "309/309 [==============================] - 0s 170us/step\n"
     ]
    },
    {
     "data": {
      "text/plain": [
       "150.09656625889653"
      ]
     },
     "execution_count": 34,
     "metadata": {},
     "output_type": "execute_result"
    }
   ],
   "source": [
    "# Evaluate the model\n",
    "model_C_eval = model_C.evaluate(X_test, y_test)\n",
    "model_C_eval"
   ]
  },
  {
   "cell_type": "code",
   "execution_count": 35,
   "id": "85ba5b0d-4c7d-4ee6-b5e4-ac7901938fb4",
   "metadata": {},
   "outputs": [
    {
     "data": {
      "text/plain": [
       "150.09656575728866"
      ]
     },
     "execution_count": 35,
     "metadata": {},
     "output_type": "execute_result"
    }
   ],
   "source": [
    "# Find the MSE\n",
    "y_pred = model_C.predict(X_test)\n",
    "mse = mean_squared_error(y_test, y_pred)\n",
    "mse"
   ]
  },
  {
   "cell_type": "code",
   "execution_count": 36,
   "id": "f975d7a7-3be3-41ad-9130-fe0c667908d0",
   "metadata": {},
   "outputs": [],
   "source": [
    "# Repeat the process 50 times\n",
    "mean_squared_errors_3 = []\n",
    "for i in range(0,50):\n",
    "    # split the data\n",
    "    X_train, X_test, y_train, y_test = train_test_split(predictors_normalized, target, test_size=0.3, random_state=i)\n",
    "    # fit the model with our data. Use 100 epochs for training\n",
    "    model_C.fit(X_train, y_train, epochs=100, verbose=0)\n",
    "    # evaluate the model\n",
    "    model_eval = model_C.evaluate(X_test, y_test, verbose=0)\n",
    "    # calculate the mse\n",
    "    y_pred = model_C.predict(X_test)\n",
    "    mse = mean_squared_error(y_test, y_pred)\n",
    "    # append our mse to our list\n",
    "    mean_squared_errors_3.append(mse)"
   ]
  },
  {
   "cell_type": "code",
   "execution_count": 37,
   "id": "4d60a79a-a1a6-483e-aee6-f6051dca0da5",
   "metadata": {},
   "outputs": [],
   "source": [
    "# Calculating the mean and std\n",
    "mean3 = np.mean(mean_squared_errors_3)\n",
    "standard_deviation3 = np.std(mean_squared_errors_3)"
   ]
  },
  {
   "cell_type": "code",
   "execution_count": 38,
   "id": "ae5c1179-0a83-460a-9138-244417120072",
   "metadata": {},
   "outputs": [
    {
     "data": {
      "text/plain": [
       "44.877676036864074"
      ]
     },
     "execution_count": 38,
     "metadata": {},
     "output_type": "execute_result"
    }
   ],
   "source": [
    "mean3"
   ]
  },
  {
   "cell_type": "code",
   "execution_count": 39,
   "id": "b1dcc79d-d6d2-46fd-9367-86884a45cbe0",
   "metadata": {},
   "outputs": [
    {
     "data": {
      "text/plain": [
       "9.024181040353426"
      ]
     },
     "execution_count": 39,
     "metadata": {},
     "output_type": "execute_result"
    }
   ],
   "source": [
    "standard_deviation3"
   ]
  },
  {
   "cell_type": "markdown",
   "id": "e57789f4-9258-4828-83b6-4ea4571363b8",
   "metadata": {},
   "source": [
    "## **Part D.**"
   ]
  },
  {
   "cell_type": "code",
   "execution_count": 40,
   "id": "ac8fdf81-5340-4ea3-af3b-e1d3fd2c1691",
   "metadata": {},
   "outputs": [],
   "source": [
    "# Build and compile the model. This model uses 3 hidden layers as opposed to 1 like in previous models\n",
    "model_D = Sequential()\n",
    "model_D.add(Dense(10, activation='relu', input_shape=(n_cols,)))\n",
    "model_D.add(Dense(10, activation='relu'))\n",
    "model_D.add(Dense(10, activation='relu'))\n",
    "model_D.add(Dense(1))\n",
    "model_D.compile(optimizer='adam', loss='mean_squared_error') # adam optimizer and the mean squared error as the loss function"
   ]
  },
  {
   "cell_type": "code",
   "execution_count": 41,
   "id": "dbfc86f8-2b93-4f18-8e83-27f47a2743d5",
   "metadata": {},
   "outputs": [],
   "source": [
    "# Split the data\n",
    "X_train, X_test, y_train, y_test = train_test_split(predictors_normalized, target, test_size=0.3, random_state=42)"
   ]
  },
  {
   "cell_type": "code",
   "execution_count": 42,
   "id": "2bc200cb-0fb6-4583-8283-cb99abfc64b7",
   "metadata": {},
   "outputs": [
    {
     "data": {
      "text/plain": [
       "<keras.callbacks.History at 0x7fe5600a8910>"
      ]
     },
     "execution_count": 42,
     "metadata": {},
     "output_type": "execute_result"
    }
   ],
   "source": [
    "# Fit the model\n",
    "model_D.fit(X_train, y_train, epochs=50, verbose=0)"
   ]
  },
  {
   "cell_type": "code",
   "execution_count": 43,
   "id": "ddf5f117-2e83-4f5d-a89e-2dc815244bef",
   "metadata": {},
   "outputs": [
    {
     "name": "stdout",
     "output_type": "stream",
     "text": [
      "309/309 [==============================] - 0s 226us/step\n"
     ]
    },
    {
     "data": {
      "text/plain": [
       "109.8684687938505"
      ]
     },
     "execution_count": 43,
     "metadata": {},
     "output_type": "execute_result"
    }
   ],
   "source": [
    "# Evaluate the model\n",
    "model_D_eval = model_D.evaluate(X_test, y_test)\n",
    "model_D_eval"
   ]
  },
  {
   "cell_type": "code",
   "execution_count": 44,
   "id": "01aff680-03bf-408c-9353-75a3b55dd448",
   "metadata": {},
   "outputs": [
    {
     "data": {
      "text/plain": [
       "109.8684723010953"
      ]
     },
     "execution_count": 44,
     "metadata": {},
     "output_type": "execute_result"
    }
   ],
   "source": [
    "# Find the MSE\n",
    "y_pred = model_D.predict(X_test)\n",
    "mse = mean_squared_error(y_test, y_pred)\n",
    "mse"
   ]
  },
  {
   "cell_type": "code",
   "execution_count": 45,
   "id": "e4b5ecf7-3787-4d36-a42a-72eb1b1a4dd2",
   "metadata": {},
   "outputs": [],
   "source": [
    "# Repeat the process 50 times\n",
    "mean_squared_errors_4 = []\n",
    "for i in range(0,50):\n",
    "    # split the data\n",
    "    X_train, X_test, y_train, y_test = train_test_split(predictors_normalized, target, test_size=0.3, random_state=i)\n",
    "    # fit the model with our data\n",
    "    model_D.fit(X_train, y_train, epochs=50, verbose=0)\n",
    "    # evaluate the model\n",
    "    model_eval = model_D.evaluate(X_test, y_test,verbose=0)\n",
    "    # calculate the mse\n",
    "    y_pred = model_D.predict(X_test)\n",
    "    mse = mean_squared_error(y_test, y_pred)\n",
    "    # append our mse to our list\n",
    "    mean_squared_errors_4.append(mse)"
   ]
  },
  {
   "cell_type": "code",
   "execution_count": 46,
   "id": "2f4d471f-e92f-4e85-9068-22c5a97ef640",
   "metadata": {},
   "outputs": [],
   "source": [
    "# Calculating the mean and std\n",
    "mean4 = np.mean(mean_squared_errors_4)\n",
    "standard_deviation4 = np.std(mean_squared_errors_4)"
   ]
  },
  {
   "cell_type": "code",
   "execution_count": 47,
   "id": "eb2e2eea-1750-4df7-865d-2c8c6e260572",
   "metadata": {},
   "outputs": [
    {
     "data": {
      "text/plain": [
       "25.603135131939844"
      ]
     },
     "execution_count": 47,
     "metadata": {},
     "output_type": "execute_result"
    }
   ],
   "source": [
    "mean4"
   ]
  },
  {
   "cell_type": "code",
   "execution_count": 48,
   "id": "87e72c2a-dc89-408e-b7a3-5e5d26e67814",
   "metadata": {},
   "outputs": [
    {
     "data": {
      "text/plain": [
       "7.089338931915645"
      ]
     },
     "execution_count": 48,
     "metadata": {},
     "output_type": "execute_result"
    }
   ],
   "source": [
    "standard_deviation4"
   ]
  },
  {
   "cell_type": "markdown",
   "id": "4ee7a2ea-81b7-4758-8b52-a9e9df1959c2",
   "metadata": {},
   "source": [
    "## **Conclusion**"
   ]
  },
  {
   "cell_type": "code",
   "execution_count": 49,
   "id": "cfe6cd83-e3de-4d27-94a4-253496820a25",
   "metadata": {},
   "outputs": [
    {
     "name": "stdout",
     "output_type": "stream",
     "text": [
      "Mean Summary:\n",
      "Model A: 51.711954125356016\n",
      "Model B: 41.94114665658969\n",
      "Model C: 44.877676036864074\n",
      "Model D: 25.603135131939844\n",
      "\n",
      "\n",
      "Standard Deviation Summary:\n",
      "Model A: 17.040345571772622\n",
      "Model B: 24.100195964861587\n",
      "Model C: 9.024181040353426\n",
      "Model D: 7.089338931915645\n"
     ]
    }
   ],
   "source": [
    "print(\"Mean Summary:\")\n",
    "print(\"Model A: \" + str(mean))\n",
    "print(\"Model B: \" + str(mean2))\n",
    "print(\"Model C: \" + str(mean3))\n",
    "print(\"Model D: \" + str(mean4))\n",
    "print('\\n')\n",
    "print(\"Standard Deviation Summary:\")\n",
    "print(\"Model A: \" + str(standard_deviation))\n",
    "print(\"Model B: \" + str(standard_deviation2))\n",
    "print(\"Model C: \" + str(standard_deviation3))\n",
    "print(\"Model D: \" + str(standard_deviation4))"
   ]
  },
  {
   "cell_type": "markdown",
   "id": "75095254-ee1e-48ea-9de6-79f70e72342b",
   "metadata": {},
   "source": [
    "**B. How does the mean of the mean squared errors compare to that from Step A?**\n",
    "\n",
    "The mse is smaller than the mse from Step A.\n",
    "\n",
    "**C. How does the mean of the mean squared errors compare to that from Step B?**\n",
    "\n",
    "The mse is slighly larger than the mse from Step B.\n",
    "\n",
    "**D. How does the mean of the mean squared errors compare to that from Step B?**\n",
    "\n",
    "The mse is much smaller than the mse from Step B."
   ]
  },
  {
   "cell_type": "code",
   "execution_count": null,
   "id": "3b52810b-6866-4617-97c5-1c9d09678fe0",
   "metadata": {},
   "outputs": [],
   "source": []
  }
 ],
 "metadata": {
  "kernelspec": {
   "display_name": "Python",
   "language": "python",
   "name": "conda-env-python-py"
  },
  "language_info": {
   "codemirror_mode": {
    "name": "ipython",
    "version": 3
   },
   "file_extension": ".py",
   "mimetype": "text/x-python",
   "name": "python",
   "nbconvert_exporter": "python",
   "pygments_lexer": "ipython3",
   "version": "3.7.12"
  }
 },
 "nbformat": 4,
 "nbformat_minor": 5
}
